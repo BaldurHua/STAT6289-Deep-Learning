{
 "cells": [
  {
   "cell_type": "markdown",
   "metadata": {},
   "source": [
    "### Emotion Detactor\n",
    "\n",
    "* Name: Baldur Hua\n",
    "\n",
    "* [Github link](https://github.com/BaldurHua/STAT6289-Deep-Learning)\n",
    "\n",
    "* [Dataset](https://www.kaggle.com/himanigulati/expressions)"
   ]
  },
  {
   "cell_type": "code",
   "execution_count": 1,
   "metadata": {},
   "outputs": [],
   "source": [
    "import os\n",
    "import torch\n",
    "import tensorflow as tf\n",
    "from tensorflow import keras\n",
    "import matplotlib.pyplot as plt\n",
    "import numpy as np\n",
    "import pandas as pd\n",
    "import torch.nn as nn\n",
    "import torch.nn.functional as F\n",
    "from torchvision import transforms\n",
    "import torchvision"
   ]
  },
  {
   "cell_type": "code",
   "execution_count": 2,
   "metadata": {},
   "outputs": [
    {
     "data": {
      "text/plain": [
       "device(type='cuda', index=0)"
      ]
     },
     "execution_count": 2,
     "metadata": {},
     "output_type": "execute_result"
    }
   ],
   "source": [
    "device = torch.device('cuda:0' if torch.cuda.is_available() else 'cpu')\n",
    "device"
   ]
  },
  {
   "cell_type": "code",
   "execution_count": 3,
   "metadata": {},
   "outputs": [
    {
     "data": {
      "text/html": [
       "<div>\n",
       "<style scoped>\n",
       "    .dataframe tbody tr th:only-of-type {\n",
       "        vertical-align: middle;\n",
       "    }\n",
       "\n",
       "    .dataframe tbody tr th {\n",
       "        vertical-align: top;\n",
       "    }\n",
       "\n",
       "    .dataframe thead th {\n",
       "        text-align: right;\n",
       "    }\n",
       "</style>\n",
       "<table border=\"1\" class=\"dataframe\">\n",
       "  <thead>\n",
       "    <tr style=\"text-align: right;\">\n",
       "      <th></th>\n",
       "      <th>emotion</th>\n",
       "      <th>pixels</th>\n",
       "      <th>Usage</th>\n",
       "    </tr>\n",
       "  </thead>\n",
       "  <tbody>\n",
       "    <tr>\n",
       "      <th>0</th>\n",
       "      <td>0</td>\n",
       "      <td>70 80 82 72 58 58 60 63 54 58 60 48 89 115 121...</td>\n",
       "      <td>Training</td>\n",
       "    </tr>\n",
       "    <tr>\n",
       "      <th>1</th>\n",
       "      <td>0</td>\n",
       "      <td>151 150 147 155 148 133 111 140 170 174 182 15...</td>\n",
       "      <td>Training</td>\n",
       "    </tr>\n",
       "    <tr>\n",
       "      <th>2</th>\n",
       "      <td>2</td>\n",
       "      <td>231 212 156 164 174 138 161 173 182 200 106 38...</td>\n",
       "      <td>Training</td>\n",
       "    </tr>\n",
       "    <tr>\n",
       "      <th>3</th>\n",
       "      <td>4</td>\n",
       "      <td>24 32 36 30 32 23 19 20 30 41 21 22 32 34 21 1...</td>\n",
       "      <td>Training</td>\n",
       "    </tr>\n",
       "    <tr>\n",
       "      <th>4</th>\n",
       "      <td>6</td>\n",
       "      <td>4 0 0 0 0 0 0 0 0 0 0 0 3 15 23 28 48 50 58 84...</td>\n",
       "      <td>Training</td>\n",
       "    </tr>\n",
       "  </tbody>\n",
       "</table>\n",
       "</div>"
      ],
      "text/plain": [
       "   emotion                                             pixels     Usage\n",
       "0        0  70 80 82 72 58 58 60 63 54 58 60 48 89 115 121...  Training\n",
       "1        0  151 150 147 155 148 133 111 140 170 174 182 15...  Training\n",
       "2        2  231 212 156 164 174 138 161 173 182 200 106 38...  Training\n",
       "3        4  24 32 36 30 32 23 19 20 30 41 21 22 32 34 21 1...  Training\n",
       "4        6  4 0 0 0 0 0 0 0 0 0 0 0 3 15 23 28 48 50 58 84...  Training"
      ]
     },
     "execution_count": 3,
     "metadata": {},
     "output_type": "execute_result"
    }
   ],
   "source": [
    "#%%\n",
    "# Get working directory\n",
    "filepath = os.path.join(os.getcwd())\n",
    "# Read data file\n",
    "df = pd.read_csv(os.path.join(filepath, \"fer2013.csv\"))\n",
    "df.head()"
   ]
  },
  {
   "cell_type": "code",
   "execution_count": 4,
   "metadata": {},
   "outputs": [
    {
     "data": {
      "text/plain": [
       "[0, 1, 2, 3, 4, 5, 6]"
      ]
     },
     "execution_count": 4,
     "metadata": {},
     "output_type": "execute_result"
    }
   ],
   "source": [
    "classes = sorted(df['emotion'].unique())\n",
    "classes"
   ]
  },
  {
   "cell_type": "code",
   "execution_count": 5,
   "metadata": {},
   "outputs": [
    {
     "data": {
      "text/plain": [
       "array(['Training', 'PublicTest', 'PrivateTest'], dtype=object)"
      ]
     },
     "execution_count": 5,
     "metadata": {},
     "output_type": "execute_result"
    }
   ],
   "source": [
    "df['Usage'].unique()"
   ]
  },
  {
   "cell_type": "markdown",
   "metadata": {},
   "source": [
    "####  Category: \n",
    "* 0=Angry\n",
    "* 1=Disgust \n",
    "* 2=Fear \n",
    "* 3=Happy \n",
    "* 4=Sad\n",
    "* 5=Surprise\n",
    "* 6=Neutral"
   ]
  },
  {
   "cell_type": "code",
   "execution_count": 6,
   "metadata": {},
   "outputs": [
    {
     "data": {
      "text/plain": [
       "{0: 'Angry',\n",
       " 1: 'Disgust',\n",
       " 2: 'Fear',\n",
       " 3: 'Happy',\n",
       " 4: 'Sad',\n",
       " 5: 'Surprise',\n",
       " 6: 'Neutral'}"
      ]
     },
     "execution_count": 6,
     "metadata": {},
     "output_type": "execute_result"
    }
   ],
   "source": [
    "classes = {0:'Angry', 1:'Disgust',\n",
    "          2:'Fear', 3:'Happy',\n",
    "          4:'Sad', 5:'Surprise', \n",
    "          6:'Neutral'}\n",
    "classes"
   ]
  },
  {
   "cell_type": "code",
   "execution_count": 7,
   "metadata": {},
   "outputs": [],
   "source": [
    "class PixConv:\n",
    "    def __init__(self, data):\n",
    "        self.x_train, self.y_train = [],  []\n",
    "        self.x_test, self.y_test = [], []\n",
    "        self.x_valid, self.y_valid = [], []\n",
    "\n",
    "        for ind, x in enumerate(data.values):\n",
    "            pixels = []\n",
    "            label = None\n",
    "            for indx, i in enumerate(x[1].split(' ')):\n",
    "                pixels.append(int(i))\n",
    "            pixels = np.array(pixels).reshape((1, 48, 48))\n",
    "\n",
    "            if x[2] == 'Training':\n",
    "                self.x_train.append(pixels)\n",
    "                self.y_train.append(int(x[0]))\n",
    "            elif x[2] == 'PublicTest':\n",
    "                self.x_test.append(pixels)\n",
    "                self.y_test.append(int(x[0]))\n",
    "            else:\n",
    "                self.x_valid.append(pixels)\n",
    "                self.y_valid.append(int(x[0]))\n",
    "        self._x_train, self.y_train = np.array(self.x_train).reshape((len(self.x_train), 1, 48, 48)),\\\n",
    "            np.array(self.y_train, dtype=np.int64)\n",
    "        self._x_test, self.y_test = np.array(self.x_test).reshape((len(self.x_test), 1, 48, 48)),\\\n",
    "            np.array(self.y_test, dtype=np.int64)\n",
    "        self._x_valid, self.y_valid = np.array(self.x_valid).reshape((len(self.x_valid), 1, 48, 48)),\\\n",
    "            np.array(self.y_valid, dtype=np.int64)"
   ]
  },
  {
   "cell_type": "code",
   "execution_count": 8,
   "metadata": {},
   "outputs": [],
   "source": [
    "img = PixConv(df)"
   ]
  },
  {
   "cell_type": "code",
   "execution_count": 9,
   "metadata": {},
   "outputs": [
    {
     "data": {
      "image/png": "[encoded data removed]",
      "text/plain": [
       "<Figure size 432x288 with 4 Axes>"
      ]
     },
     "metadata": {},
     "output_type": "display_data"
    }
   ],
   "source": [
    "img.x_train = np.asarray(img.x_train, dtype=np.float64)\n",
    "img.x_train -= np.mean(img.x_train, axis = 0)\n",
    "fig = plt.figure()\n",
    "for i in range(1, 5):\n",
    "    imgs = img.x_train[i].reshape((48, 48))\n",
    "    fig.add_subplot(1, 4, i)\n",
    "    plt.imshow(imgs, interpolation='none', cmap='gray')\n",
    "plt.show()"
   ]
  },
  {
   "cell_type": "code",
   "execution_count": 10,
   "metadata": {},
   "outputs": [],
   "source": [
    "# image tensor and the label\n",
    "# reference source: https://github.com/AsutoshPadhi/fer-2013/blob/master/src/fer.py\n",
    "class CreateData(torch.utils.data.Dataset):\n",
    "    def __init__(self, X, Y, transforms=None):\n",
    "        self.transforms = transforms\n",
    "        self.img = X\n",
    "        self.labs = Y\n",
    "        \n",
    "    def __len__(self):\n",
    "        return len(self.img)\n",
    "    \n",
    "    def __getitem__(self, index):\n",
    "        imgs = self.img[index]\n",
    "        labls = self.labs[index]\n",
    "        \n",
    "        if self.transforms:\n",
    "            imgs = self.transforms(np.uint8(imgs))\n",
    "        return (imgs, labls)"
   ]
  },
  {
   "cell_type": "code",
   "execution_count": 11,
   "metadata": {},
   "outputs": [],
   "source": [
    "class CreateData2(torch.utils.data.Dataset):\n",
    "    def __init__(self, df, transforms=None):\n",
    "        self.df = df\n",
    "        self.transforms = transforms\n",
    "        \n",
    "    def __len__(self):\n",
    "        return len(self.df)\n",
    "    \n",
    "    def __getitem__(self, index):\n",
    "        row = self.df.loc[index]\n",
    "        image, label = np.array([x.split() for x in self.df.loc[index, ['pixels']]]), row['emotion']\n",
    "        image = np.asarray(image).astype(np.uint8).reshape(48,48,1)\n",
    "       \n",
    "        if self.transforms:\n",
    "            image = self.transforms(image)\n",
    "            \n",
    "        return image.clone().detach(), label"
   ]
  },
  {
   "cell_type": "code",
   "execution_count": 12,
   "metadata": {},
   "outputs": [],
   "source": [
    "# Load the dataset \n",
    "# Augmentation tsfm\n",
    "df_train = df[df['Usage']=='Training']\n",
    "df_valid = df[df['Usage']=='PublicTest']\n",
    "df_test = df[df['Usage']=='PrivateTest']\n",
    "\n",
    "df_valid = df_valid.reset_index(drop=True) \n",
    "df_test = df_test.reset_index(drop = True)\n",
    "\n",
    "transform = transforms.Compose(\n",
    "    [transforms.ToPILImage(),\n",
    "    transforms.RandomHorizontalFlip(),\n",
    "    transforms.RandomRotation(10),\n",
    "    transforms.ToTensor(), \n",
    "    transforms.Normalize((0.5), (0.5))])\n",
    "\n",
    "transform2 = transforms.Compose(\n",
    "    [transforms.ToTensor(), \n",
    "     transforms.Normalize((0.5), (0.5))])\n",
    "\n",
    "batch_size = 16\n",
    "\n",
    "trainset =  CreateData2(df_train, transform)\n",
    "validset = CreateData2(df_valid, transform2)\n",
    "testset = CreateData2(df_test, transform2)\n",
    "\n",
    "trainloader = torch.utils.data.DataLoader(trainset, \n",
    "                                          batch_size=batch_size, \n",
    "                                          shuffle=True, num_workers=0)\n",
    "\n",
    "validloader = torch.utils.data.DataLoader(validset, \n",
    "                                         batch_size=batch_size, \n",
    "                                         shuffle=False, num_workers=0)\n",
    "\n",
    "\n",
    "testloader = torch.utils.data.DataLoader(testset, \n",
    "                                         batch_size=batch_size, \n",
    "                                         shuffle=False, num_workers=0)"
   ]
  },
  {
   "cell_type": "code",
   "execution_count": 13,
   "metadata": {},
   "outputs": [],
   "source": [
    "class CNN(nn.Module): # num_of_class = 7  48*48*1\n",
    "    def __init__(self):\n",
    "        super().__init__()\n",
    "        self.conv1 = nn.Conv2d(1, 8, 3)\n",
    "        self.pool = nn.MaxPool2d(2, 2)\n",
    "        self.conv2 = nn.Conv2d(8, 16, 3)\n",
    "        self.conv3 = nn.Conv2d(16, 64, 3)\n",
    "        self.fc1 = nn.Linear(16*20*20, 512)\n",
    "        self.fc2 = nn.Linear(512, 144)\n",
    "        self.fc3 = nn.Linear(144,7)\n",
    "        self.drop = nn.Dropout(0.5)\n",
    "  \n",
    "    def forward(self, x):\n",
    "        x = F.relu(self.conv1(x))\n",
    "        x = self.pool(F.relu(self.conv2(x)))\n",
    "        x = self.pool(F.relu(self.conv3(x)))\n",
    "        x = torch.flatten(x, 1)\n",
    "        x = F.relu(self.fc1(x))\n",
    "        x = self.drop(x)\n",
    "        x = F.relu(self.fc2(x))\n",
    "        x = self.drop(x)\n",
    "        x = self.fc3(x)\n",
    "        return x\n",
    "    \n",
    "net = CNN()"
   ]
  },
  {
   "cell_type": "code",
   "execution_count": 14,
   "metadata": {},
   "outputs": [],
   "source": [
    "import torch.optim as optim\n",
    "\n",
    "def ModAcc(model, epochs, dataloader_train, dataloader_test):\n",
    "    criterion = nn.CrossEntropyLoss()\n",
    "    optimizer = optim.Adam(model.parameters(), lr=0.001)\n",
    "    train_acc = []\n",
    "    test_acc = []\n",
    "    for epoch in range(epochs): \n",
    "        train_correct = 0\n",
    "        train_total = 0\n",
    "        model.train()\n",
    "        for i, data in enumerate(dataloader_train, 0):\n",
    "            inputs, train_labels = data\n",
    "            inputs, train_labels = inputs.to(device), train_labels.to(device)\n",
    "            optimizer.zero_grad()\n",
    "\n",
    "            outputs = model(inputs)\n",
    "            loss = criterion(outputs, train_labels)\n",
    "            loss.backward()\n",
    "            optimizer.step()\n",
    "            \n",
    "            predicted_train = torch.max(outputs, 1)[1].data.squeeze() \n",
    "            train_total += train_labels.size(0)\n",
    "            train_correct += (predicted_train == train_labels).sum().item()\n",
    "        train_acc.append(train_correct / train_total)\n",
    "    \n",
    "    # Validation\n",
    "\n",
    "        test_correct = 0\n",
    "        test_total = 0\n",
    "        model.eval()\n",
    "        with torch.no_grad():\n",
    "            for data in dataloader_test:\n",
    "                images, test_labels = data\n",
    "                images, test_labels = images.to(device), test_labels.to(device)\n",
    "\n",
    "                scores = model(images)\n",
    "                # the class with the highest energy is what we choose as prediction\n",
    "                _, predicted_test = torch.max(scores.data, 1)\n",
    "                test_total += test_labels.size(0)\n",
    "                test_correct += (predicted_test == test_labels).sum().item()\n",
    "            test_acc.append(test_correct / test_total)\n",
    "\n",
    "            print(\"Epoch {}/{}, Train Accuracy: {:.3f}, Validation Accuracy:{:.3f}\".format(\n",
    "                epoch+1, epochs, train_correct / train_total, test_correct / test_total))\n",
    "    return [train_acc, test_acc]"
   ]
  },
  {
   "cell_type": "code",
   "execution_count": 15,
   "metadata": {},
   "outputs": [
    {
     "name": "stdout",
     "output_type": "stream",
     "text": [
      "Epoch 1/30, Train Accuracy: 0.336, Validation Accuracy:0.428\n",
      "Epoch 2/30, Train Accuracy: 0.434, Validation Accuracy:0.492\n",
      "Epoch 3/30, Train Accuracy: 0.470, Validation Accuracy:0.511\n",
      "Epoch 4/30, Train Accuracy: 0.491, Validation Accuracy:0.525\n",
      "Epoch 5/30, Train Accuracy: 0.506, Validation Accuracy:0.536\n",
      "Epoch 6/30, Train Accuracy: 0.518, Validation Accuracy:0.536\n",
      "Epoch 7/30, Train Accuracy: 0.529, Validation Accuracy:0.551\n",
      "Epoch 8/30, Train Accuracy: 0.536, Validation Accuracy:0.555\n",
      "Epoch 9/30, Train Accuracy: 0.542, Validation Accuracy:0.549\n",
      "Epoch 10/30, Train Accuracy: 0.547, Validation Accuracy:0.555\n",
      "Epoch 11/30, Train Accuracy: 0.555, Validation Accuracy:0.559\n",
      "Epoch 12/30, Train Accuracy: 0.559, Validation Accuracy:0.552\n",
      "Epoch 13/30, Train Accuracy: 0.564, Validation Accuracy:0.561\n",
      "Epoch 14/30, Train Accuracy: 0.568, Validation Accuracy:0.565\n",
      "Epoch 15/30, Train Accuracy: 0.577, Validation Accuracy:0.573\n",
      "Epoch 16/30, Train Accuracy: 0.579, Validation Accuracy:0.564\n",
      "Epoch 17/30, Train Accuracy: 0.577, Validation Accuracy:0.571\n",
      "Epoch 18/30, Train Accuracy: 0.585, Validation Accuracy:0.567\n",
      "Epoch 19/30, Train Accuracy: 0.584, Validation Accuracy:0.564\n",
      "Epoch 20/30, Train Accuracy: 0.588, Validation Accuracy:0.573\n",
      "Epoch 21/30, Train Accuracy: 0.594, Validation Accuracy:0.573\n",
      "Epoch 22/30, Train Accuracy: 0.596, Validation Accuracy:0.581\n",
      "Epoch 23/30, Train Accuracy: 0.599, Validation Accuracy:0.569\n",
      "Epoch 24/30, Train Accuracy: 0.606, Validation Accuracy:0.573\n",
      "Epoch 25/30, Train Accuracy: 0.605, Validation Accuracy:0.576\n",
      "Epoch 26/30, Train Accuracy: 0.612, Validation Accuracy:0.575\n",
      "Epoch 27/30, Train Accuracy: 0.612, Validation Accuracy:0.581\n",
      "Epoch 28/30, Train Accuracy: 0.609, Validation Accuracy:0.580\n",
      "Epoch 29/30, Train Accuracy: 0.618, Validation Accuracy:0.587\n",
      "Epoch 30/30, Train Accuracy: 0.617, Validation Accuracy:0.587\n"
     ]
    }
   ],
   "source": [
    "net.to(device)\n",
    "Acc = ModAcc(net, 30, trainloader, validloader)"
   ]
  },
  {
   "cell_type": "code",
   "execution_count": 16,
   "metadata": {},
   "outputs": [],
   "source": [
    "PATH = './emo_net.pth'\n",
    "torch.save(net.state_dict(), PATH)"
   ]
  },
  {
   "cell_type": "code",
   "execution_count": 17,
   "metadata": {},
   "outputs": [],
   "source": [
    "Acc_Train = Acc[0]\n",
    "Acc_Test = Acc[1]"
   ]
  },
  {
   "cell_type": "code",
   "execution_count": 18,
   "metadata": {},
   "outputs": [
    {
     "data": {
      "text/plain": [
       "<matplotlib.legend.Legend at 0x21398f09040>"
      ]
     },
     "execution_count": 18,
     "metadata": {},
     "output_type": "execute_result"
    },
    {
     "data": {
      "image/png": "[encoded data removed]",
      "text/plain": [
       "<Figure size 640x480 with 1 Axes>"
      ]
     },
     "metadata": {},
     "output_type": "display_data"
    }
   ],
   "source": [
    "plt.style.use('default')\n",
    "plt.plot(Acc_Train, label='Training')\n",
    "plt.plot(Acc_Test, label='Validation')\n",
    "plt.xlabel('Epoch')\n",
    "plt.ylabel('Accuracy')\n",
    "plt.title('Model Accuracy')\n",
    "plt.ylim([0, 1])\n",
    "plt.legend(loc='upper left')"
   ]
  },
  {
   "cell_type": "code",
   "execution_count": 19,
   "metadata": {},
   "outputs": [
    {
     "data": {
      "text/plain": [
       "<All keys matched successfully>"
      ]
     },
     "execution_count": 19,
     "metadata": {},
     "output_type": "execute_result"
    }
   ],
   "source": [
    "net = CNN()\n",
    "net.load_state_dict(torch.load(PATH))"
   ]
  },
  {
   "cell_type": "code",
   "execution_count": 20,
   "metadata": {},
   "outputs": [
    {
     "name": "stdout",
     "output_type": "stream",
     "text": [
      "Accuracy of the network on the test images: 54 %\n"
     ]
    }
   ],
   "source": [
    "net.to(device)\n",
    "correct = 0\n",
    "total = 0\n",
    "with torch.no_grad():\n",
    "    for data in testloader:\n",
    "        images, test_labels = data\n",
    "        images, test_labels = images.to(device), test_labels.to(device)\n",
    "        scores = net(images)\n",
    "        _, predicted_test = torch.max(scores.data, 1)\n",
    "        total += test_labels.size(0)\n",
    "        correct += (predicted_test == test_labels).sum().item()\n",
    "print(f'Accuracy of the network on the test images: {100 * correct // total} %')"
   ]
  },
  {
   "cell_type": "code",
   "execution_count": 21,
   "metadata": {},
   "outputs": [],
   "source": [
    "def predict(img, model):\n",
    "    x = img.unsqueeze(0)\n",
    "    y = model(x)\n",
    "    _, preds  = torch.max(y, dim=1)\n",
    "    return classes[preds[0].item()]"
   ]
  },
  {
   "cell_type": "code",
   "execution_count": 24,
   "metadata": {},
   "outputs": [
    {
     "name": "stdout",
     "output_type": "stream",
     "text": [
      "Label: Neutral , Predicted: Neutral\n"
     ]
    },
    {
     "data": {
      "image/png": "[encoded data removed]",
      "text/plain": [
       "<Figure size 640x480 with 1 Axes>"
      ]
     },
     "metadata": {},
     "output_type": "display_data"
    }
   ],
   "source": [
    "img, label = testset[15]\n",
    "plt.imshow(img[0], interpolation='nearest', cmap='gray')\n",
    "img = img.to(device)\n",
    "\n",
    "print('Label:', classes[label], ', Predicted:', predict(img, net))"
   ]
  },
  {
   "cell_type": "code",
   "execution_count": 23,
   "metadata": {},
   "outputs": [
    {
     "name": "stdout",
     "output_type": "stream",
     "text": [
      "Label: Happy , Predicted: Happy\n"
     ]
    },
    {
     "data": {
      "image/png": "[encoded data removed]",
      "text/plain": [
       "<Figure size 640x480 with 1 Axes>"
      ]
     },
     "metadata": {},
     "output_type": "display_data"
    }
   ],
   "source": [
    "img, label = testset[1000]\n",
    "plt.imshow(img[0], interpolation='nearest', cmap='gray')\n",
    "img = img.to(device)\n",
    "\n",
    "print('Label:', classes[label], ', Predicted:', predict(img, net))"
   ]
  },
  {
   "cell_type": "code",
   "execution_count": 25,
   "metadata": {},
   "outputs": [],
   "source": [
    "import cv2"
   ]
  },
  {
   "cell_type": "code",
   "execution_count": 30,
   "metadata": {},
   "outputs": [],
   "source": [
    "vid = cv2.VideoCapture(os.path.join(filepath, \"Test Video.mp4\"))\n",
    "net.to(device)\n",
    "\n",
    "fourcc = cv2.VideoWriter_fourcc(*'XVID')\n",
    "cv2.namedWindow('frame',0)\n",
    "cv2.resizeWindow('frame', 1440, 720)\n",
    "out = cv2.VideoWriter('demo.avi', fourcc, 20.0, (1440, 720))\n",
    "\n",
    "while True:\n",
    "    ret, frame = vid.read()\n",
    "    frame = cv2.resize(frame, (1440, 720))\n",
    "    if not ret:\n",
    "        break\n",
    "    face_detector = cv2.CascadeClassifier(cv2.data.haarcascades + 'haarcascade_frontalface_default.xml')\n",
    "    gray_frame = cv2.cvtColor(frame, cv2.COLOR_BGR2GRAY)\n",
    "\n",
    "    num_faces = face_detector.detectMultiScale(gray_frame, scaleFactor=1.3, minNeighbors=4)\n",
    "\n",
    "    for (x, y, w, h) in num_faces:\n",
    "        cv2.rectangle(frame, (x, y-50), (x+w+20, y+h+20), (0, 255, 0), 4)\n",
    "        roi_gray_frame = gray_frame[y:y + h, x:x + w]\n",
    "        cropped_img = cv2.resize(roi_gray_frame, (48, 48))\n",
    "        cropped_img = np.expand_dims(cropped_img, 0)\n",
    "        cropped_img = torch.from_numpy(cropped_img).float()\n",
    "        cropped_img = cropped_img.to(device)\n",
    "\n",
    "        emotion_prediction = predict(cropped_img, net)\n",
    "        cv2.putText(frame, emotion_prediction, (x+5, y-20), cv2.FONT_HERSHEY_SIMPLEX, 1, (255, 0, 0), 2, cv2.LINE_AA)\n",
    "        \n",
    "    cv2.imshow('Emotion Detection', frame)\n",
    "    if cv2.waitKey(100) & 0xFF == ord('q'):\n",
    "        break\n",
    "    out.write(frame)\n",
    "out.release()\n",
    "vid.release()\n",
    "cv2.destroyAllWindows()"
   ]
  },
  {
   "cell_type": "code",
   "execution_count": null,
   "metadata": {},
   "outputs": [],
   "source": [
    "# Run Above"
   ]
  }
 ],
 "metadata": {
  "interpreter": {
   "hash": "03d071d45735f26ee416ed8922ad9510bf7f9815aa1dea65b280df54ace55c5e"
  },
  "kernelspec": {
   "display_name": "Python 3.8.5 ('base')",
   "language": "python",
   "name": "python3"
  },
  "language_info": {
   "codemirror_mode": {
    "name": "ipython",
    "version": 3
   },
   "file_extension": ".py",
   "mimetype": "text/x-python",
   "name": "python",
   "nbconvert_exporter": "python",
   "pygments_lexer": "ipython3",
   "version": "3.8.5"
  },
  "orig_nbformat": 4
 },
 "nbformat": 4,
 "nbformat_minor": 2
}
