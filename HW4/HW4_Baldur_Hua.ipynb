{
  "nbformat": 4,
  "nbformat_minor": 0,
  "metadata": {
    "colab": {
      "name": "HW4_Baldur_Hua.ipynb",
      "provenance": [],
      "collapsed_sections": []
    },
    "kernelspec": {
      "name": "python3",
      "display_name": "Python 3"
    },
    "language_info": {
      "name": "python"
    }
  },
  "cells": [
    {
      "cell_type": "markdown",
      "source": [
        "HW4\n",
        "Baldur Hua"
      ],
      "metadata": {
        "id": "OufVIrpFb0tu"
      }
    },
    {
      "cell_type": "code",
      "execution_count": 21,
      "metadata": {
        "colab": {
          "base_uri": "https://localhost:8080/"
        },
        "id": "am_8YdhyanpH",
        "outputId": "cdffbff9-6e5c-4081-9f10-f2420d2e5b66"
      },
      "outputs": [
        {
          "output_type": "stream",
          "name": "stdout",
          "text": [
            "Installing Magnitude.... (please wait, can take a while)\n",
            "  % Total    % Received % Xferd  Average Speed   Time    Time     Time  Current\n",
            "                                 Dload  Upload   Total   Spent    Left  Speed\n",
            "100   137  100   137    0     0    728      0 --:--:-- --:--:-- --:--:--   728\n",
            "Done installing Magnitude.\n"
          ]
        }
      ],
      "source": [
        "! echo \"Installing Magnitude.... (please wait, can take a while)\"\n",
        "! (curl https://raw.githubusercontent.com/plasticityai/magnitude/master/install-colab.sh | /bin/bash 1>/dev/null 2>/dev/null)\n",
        "! echo \"Done installing Magnitude.\""
      ]
    },
    {
      "cell_type": "code",
      "source": [
        "import pandas as pd\n",
        "import matplotlib.pyplot as plt\n",
        "import numpy as np\n",
        "import seaborn as sns"
      ],
      "metadata": {
        "id": "20UdJecUcYoQ"
      },
      "execution_count": 30,
      "outputs": []
    },
    {
      "cell_type": "code",
      "source": [
        "from google.colab import drive\n",
        "drive.mount('/content/drive')"
      ],
      "metadata": {
        "colab": {
          "base_uri": "https://localhost:8080/"
        },
        "id": "15ARuN3kducF",
        "outputId": "6593ecea-f2bf-4a29-e41e-38967cdd4ae2"
      },
      "execution_count": 23,
      "outputs": [
        {
          "output_type": "stream",
          "name": "stdout",
          "text": [
            "Drive already mounted at /content/drive; to attempt to forcibly remount, call drive.mount(\"/content/drive\", force_remount=True).\n"
          ]
        }
      ]
    },
    {
      "cell_type": "code",
      "source": [
        "# import os\n",
        "# filepath = os.path.join(os.getcwd())\n",
        "# filepath = os.path.join(filepath, 'GoogleNews-vectors-negative300.magnitude')"
      ],
      "metadata": {
        "id": "vPYhItEBd31-"
      },
      "execution_count": null,
      "outputs": []
    },
    {
      "cell_type": "code",
      "source": [
        "from pymagnitude import *\n",
        "filepath = \"/content/drive/MyDrive/GoogleNews-vectors-negative300.magnitude\"\n",
        "vectors = Magnitude(filepath)"
      ],
      "metadata": {
        "id": "Y4lhGbHZbt1Z"
      },
      "execution_count": 24,
      "outputs": []
    },
    {
      "cell_type": "code",
      "source": [
        "len(vectors)"
      ],
      "metadata": {
        "colab": {
          "base_uri": "https://localhost:8080/"
        },
        "id": "s4AmtgosMsNK",
        "outputId": "04b0a938-fd6e-43d8-81bf-fd0e9ae201cc"
      },
      "execution_count": 25,
      "outputs": [
        {
          "output_type": "execute_result",
          "data": {
            "text/plain": [
              "3000000"
            ]
          },
          "metadata": {},
          "execution_count": 25
        }
      ]
    },
    {
      "cell_type": "code",
      "source": [
        "vectors.dim"
      ],
      "metadata": {
        "colab": {
          "base_uri": "https://localhost:8080/"
        },
        "id": "i9TUYcuAO7nV",
        "outputId": "c3988906-c418-4c7a-fbfc-bb647ea23352"
      },
      "execution_count": 26,
      "outputs": [
        {
          "output_type": "execute_result",
          "data": {
            "text/plain": [
              "300"
            ]
          },
          "metadata": {},
          "execution_count": 26
        }
      ]
    },
    {
      "cell_type": "code",
      "source": [
        "vectors.most_similar(\"picnic\", topn = 20)"
      ],
      "metadata": {
        "colab": {
          "base_uri": "https://localhost:8080/"
        },
        "id": "oGBHd32nRy0n",
        "outputId": "6ce6e2a7-d7f0-4d4f-a217-b38b69265b58"
      },
      "execution_count": 27,
      "outputs": [
        {
          "output_type": "execute_result",
          "data": {
            "text/plain": [
              "[('picnics', 0.7400875),\n",
              " ('picnic_lunch', 0.721374),\n",
              " ('Picnic', 0.700534),\n",
              " ('potluck_picnic', 0.6683274),\n",
              " ('picnic_supper', 0.65189123),\n",
              " ('picnicking', 0.63550216),\n",
              " ('cookout', 0.63243484),\n",
              " ('Hiking_biking_camping', 0.6256069),\n",
              " ('barbeque', 0.62256277),\n",
              " ('barbecue', 0.6195759),\n",
              " ('picnic_lunches', 0.6143184),\n",
              " ('pig_roast', 0.61019313),\n",
              " ('Bring_picnic', 0.6033048),\n",
              " ('potluck', 0.60114384),\n",
              " ('picnic_tables', 0.6006263),\n",
              " ('Hawaiian_luau', 0.5982951),\n",
              " ('wiener_roast', 0.59388626),\n",
              " ('potluck_dinner', 0.5916978),\n",
              " ('fish_fry', 0.58994764),\n",
              " ('gazebo', 0.58934724)]"
            ]
          },
          "metadata": {},
          "execution_count": 27
        }
      ]
    },
    {
      "cell_type": "code",
      "source": [
        "sns.set_style(\"darkgrid\")\n",
        "plt.figure(figsize = (15,10))\n",
        "word=[]\n",
        "dis=[]\n",
        "vis=vectors.most_similar(vectors.query(\"picnic\"), topn = 20)\n",
        "for i in range(len(vis)):\n",
        "    word.append(vis[i][0])\n",
        "    dis.append(vis[i][1])\n",
        "plt.bar(word, dis ,color=\"green\")\n",
        "plt.xticks(rotation=45)\n",
        "plt.show()"
      ],
      "metadata": {
        "colab": {
          "base_uri": "https://localhost:8080/",
          "height": 658
        },
        "id": "nYGmwVIieVKT",
        "outputId": "11ec9b75-2a45-44b2-d0b7-b33efa5e91a8"
      },
      "execution_count": 32,
      "outputs": [
        {
          "output_type": "display_data",
          "data": {
            "text/plain": [
              "<Figure size 1080x720 with 1 Axes>"
            ],
            "image/png": "[encoded data removed]"
          },
          "metadata": {}
        }
      ]
    },
    {
      "cell_type": "code",
      "source": [
        "vectors.doesnt_match(['tissue', 'papyrus','manila', 'newsprint', 'parchment', 'gazette'])"
      ],
      "metadata": {
        "colab": {
          "base_uri": "https://localhost:8080/",
          "height": 35
        },
        "id": "wSVat6HcVi80",
        "outputId": "6e95d00d-e02a-4a4c-a57f-050b466c9365"
      },
      "execution_count": 33,
      "outputs": [
        {
          "output_type": "execute_result",
          "data": {
            "text/plain": [
              "'tissue'"
            ],
            "application/vnd.google.colaboratory.intrinsic+json": {
              "type": "string"
            }
          },
          "metadata": {},
          "execution_count": 33
        }
      ]
    },
    {
      "cell_type": "code",
      "source": [
        "vectors.most_similar(positive = [\"throw\", \"leg\"], negative = [\"jump\"]) "
      ],
      "metadata": {
        "colab": {
          "base_uri": "https://localhost:8080/"
        },
        "id": "h9jIVgVddFDS",
        "outputId": "174e3def-19c7-4207-a2ac-fb2e87cbfcc0"
      },
      "execution_count": 34,
      "outputs": [
        {
          "output_type": "execute_result",
          "data": {
            "text/plain": [
              "[('forearm', 0.48294652),\n",
              " ('shin', 0.47376165),\n",
              " ('elbow', 0.4679689),\n",
              " ('metacarpal_bone', 0.46781474),\n",
              " ('metacarpal_bones', 0.46605822),\n",
              " ('ankle', 0.46434426),\n",
              " ('shoulder', 0.46183354),\n",
              " ('thigh', 0.45393682),\n",
              " ('knee', 0.4455707),\n",
              " ('ulna_bone', 0.4423491)]"
            ]
          },
          "metadata": {},
          "execution_count": 34
        }
      ]
    },
    {
      "cell_type": "markdown",
      "source": [
        "Answer to the questions:\n",
        "1. Dimensionality of these word embeddings is 300.\n",
        "\n",
        "2. Top-5 most similar words to picnic (Exlusive) are ('cookout', 'Hiking_biking_camping', 'barbeque', 'pig_roast', 'potluck').\n",
        "  \n",
        "  picnic (Inclusive) are ('picnics',\n",
        " 'picnic_lunch', 'Picnic', 'potluck_picnic', 'picnic_supper')\n",
        "\n",
        "3. The word 'tissue' is not like the other words in the list by using '.doesnot_match' query which found the key doesn't match a list of keys to a given key.\n",
        "\n",
        "4. 'forearm is to throw', since forearm has the highest vote, since '.most_similar' is able to find the most similar key out of a list of keys to a given key.\n"
      ],
      "metadata": {
        "id": "PRY1rOQn3l6I"
      }
    }
  ]
}